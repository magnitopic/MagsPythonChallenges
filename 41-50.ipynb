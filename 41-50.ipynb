{
 "cells": [
  {
   "cell_type": "markdown",
   "metadata": {},
   "source": [
    "# 41. Numero de palabras\n",
    "\n",
    "-   Guardar en una variable una frase popular o un parrafo sacado de un libro\n",
    "-   Listar todas las palabras que aparezcan más de una vez y cuantas veces se repiten\n"
   ]
  }
 ],
 "metadata": {
  "language_info": {
   "name": "python"
  },
  "orig_nbformat": 4
 },
 "nbformat": 4,
 "nbformat_minor": 2
}
