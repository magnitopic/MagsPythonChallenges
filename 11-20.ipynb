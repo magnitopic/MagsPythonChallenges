{
 "cells": [
  {
   "cell_type": "markdown",
   "metadata": {},
   "source": [
    "# 11. Ciudades\n",
    "\n",
    "-   Crear una lista de ciudades, minimo 5\n",
    "-   Elegir una ciudad de manera aleatoria\n",
    "-   Imprimir la frase \"Siempre he querido visitar\" y concatenar la ciudad al final\n"
   ]
  },
  {
   "cell_type": "markdown",
   "metadata": {},
   "source": [
    "# 12. Menú de opciones\n",
    "\n",
    "-   Imprimir por consola un menú como este:\n",
    "\n",
    "```\n",
    "Opciones:\n",
    "--------------------------------------\n",
    "\t1. De Euros a Dólares Americanos\n",
    "\t2. De Euros a Libras Esterlinas\n",
    "\t3. De Euros a Yenes\n",
    "\t4. De Euros a Rublos\n",
    "--------------------------------------\n",
    ">\n",
    "```\n",
    "\n",
    "-   Recoger como numero la elección del usuario\n",
    "-   Recoger la cantidad de Euros\n",
    "-   Realizar la conversión de vivisas e imprimir el resultado\n"
   ]
  },
  {
   "cell_type": "markdown",
   "metadata": {},
   "source": [
    "# 13. Juego de los dados\n",
    "\n",
    "-   Pedirle el nombre a los dos jugadores\n",
    "-   En cada ronda se tira un dado (1-6)\n",
    "-   Quien tenga el valor más alto gana\n",
    "-   Se juega al mejor de tres\n",
    "-   Imprimir el resultado de cada ronda y el ganador final\n"
   ]
  },
  {
   "cell_type": "markdown",
   "metadata": {},
   "source": [
    "# 14. Porcentajes de notas\n",
    "\n",
    "-   Pedir al usuario la nota que ha sacado\n",
    "-   Pedir al usuario la nota máxima posible\n",
    "-   Comprobar que la nota que ha sacado es menor que la máxima\n",
    "-   Calcular el porcentaje de nota que ha sacado con respecto a la nota máxima\n"
   ]
  },
  {
   "cell_type": "markdown",
   "metadata": {},
   "source": [
    "# 15. Porcentaje de propina\n",
    "\n",
    "-   Crear una función que recogía dos parámetros:\n",
    "    -   Precio del servicio\n",
    "    -   Procentaje de propina\n",
    "-   Imprimir, de manera \"user friendly\", un mensaje que diga el precio del servicio el porcentaje pagado y el precio final\n"
   ]
  },
  {
   "cell_type": "markdown",
   "metadata": {},
   "source": [
    "# 16. Lista igual a cero\n",
    "\n",
    "-   Generar una lista de numeros aleatorios, positivos y negativos\n",
    "-\tDefinir una función que compruebe si la suma de todos los caracteres es igual a cero\n"
   ]
  },
  {
   "cell_type": "markdown",
   "metadata": {},
   "source": [
    "# 17. Cifrar con Cesar\n",
    "\n",
    "-   Pedir una frase al usuario\n",
    "-   Preguntarle si quiere cifrar o descifrar\n",
    "-   Crear una función que cifre el texto con el algoritmo Cesar\n",
    "-   Crear una función que descifre el texto con el algoritmo Cesar\n",
    "-   Imprimir el resultado\n",
    "\n",
    "_**ProTip:**_ Buscar en internet es una de las skills más utiles que tiene un programador\n"
   ]
  },
  {
   "cell_type": "markdown",
   "metadata": {},
   "source": [
    "# 18. Piramides\n",
    "\n",
    "-   Imprimir el siguiente patron:\n",
    "\n",
    "```\n",
    "1\n",
    "2 2\n",
    "3 3 3\n",
    "4 4 4 4\n",
    "5 5 5 5 5\n",
    "```\n",
    "\n",
    "-   E imprimir el siguiente patron:\n",
    "\n",
    "```\n",
    "* * * * *\n",
    "* * * *\n",
    "* * *\n",
    "* *\n",
    "*\n",
    "```\n"
   ]
  },
  {
   "cell_type": "markdown",
   "metadata": {},
   "source": [
    "# 19. Ordenar una lista de números aleatorios\n",
    "\n",
    "-   Generar una lista (array) de numeros de manera aleatoria\n",
    "-   Imprimir el array de manera ordenana del más grande al más pequeño\n"
   ]
  },
  {
   "cell_type": "markdown",
   "metadata": {},
   "source": [
    "# 20. Combinado de listas\n",
    "\n",
    "-   Crear dos listas de numeros\n",
    "-   Crear una lista nueva usando los numeros pares de una y los impares de otra\n"
   ]
  }
 ],
 "metadata": {
  "language_info": {
   "name": "python"
  },
  "orig_nbformat": 4
 },
 "nbformat": 4,
 "nbformat_minor": 2
}
