{
 "cells": [
  {
   "cell_type": "markdown",
   "metadata": {},
   "source": [
    "# 11. Ciudades\n",
    "\n",
    "-   Crear una lista de ciudades, mínimo 5\n",
    "-   Elegir una ciudad de manera aleatoria\n",
    "-   Imprimir la frase \"Siempre he querido visitar\" y concatenar la ciudad al final\n"
   ]
  },
  {
   "cell_type": "markdown",
   "metadata": {},
   "source": [
    "# 12. Menú de opciones\n",
    "\n",
    "-   Imprimir por consola un menú como este:\n",
    "\n",
    "```\n",
    "Opciones\n",
    "------------------------------------------\n",
    "\t1. De Euros a Dólares Americanos\n",
    "\t2. De Euros a Libras Esterlinas\n",
    "\t3. De Euros a Yenes\n",
    "\t0. Fin del programa\n",
    "------------------------------------------\n",
    ">\n",
    "```\n",
    "\n",
    "-   Recoger como número la elección del usuario\n",
    "-   Recoger la cantidad de Euros\n",
    "-   Realizar la conversión de divisas e imprimir el resultado\n",
    "-   Después de cada conversión se vuelve a mostrar el menú para elegir nuevamente\n",
    "-   Al elegir la opción 0, imprime \"Fin del programa\" y el programa finaliza\n"
   ]
  },
  {
   "cell_type": "markdown",
   "metadata": {},
   "source": [
    "# 13. Juego de los dados\n",
    "\n",
    "-   Pedirle el nombre a los dos jugadores\n",
    "-   En cada ronda se tira un dado (1-6)\n",
    "-   Quien tenga el valor más alto gana\n",
    "-   Gana quien consiga tres puntos\n",
    "-   Imprimir el resultado de cada ronda y el ganador final\n"
   ]
  },
  {
   "cell_type": "markdown",
   "metadata": {},
   "source": [
    "# 14. Porcentaje de la nota\n",
    "\n",
    "-   Pedir al usuario la nota que ha sacado\n",
    "-   Pedir al usuario la nota máxima posible\n",
    "-   Comprobar que la nota que ha sacado es menor igual que la máxima\n",
    "-   Calcular el porcentaje de la nota obtenida con respecto a la nota máxima\n"
   ]
  },
  {
   "cell_type": "markdown",
   "metadata": {},
   "source": [
    "# 15. Porcentaje de propina\n",
    "\n",
    "-   Crear una función que reciba dos parámetros:\n",
    "    -   Precio del servicio\n",
    "    -   Procentaje de la propina\n",
    "-   Imprimir, de manera \"user friendly\", un mensaje que diga el precio del servicio, el porcentaje de la propina y el precio final\n"
   ]
  },
  {
   "cell_type": "markdown",
   "metadata": {},
   "source": [
    "# 16. Lista con suma igual a cero\n",
    "\n",
    "-   Generar una lista de 12 números aleatorios, entre -9 y 9.\n",
    "-\tDefinir una función que compruebe si la suma de todos los números es igual a cero\n",
    "-   Generar listas aleatorias hasta encontrar una que cumpla la condición e imprimirla\n"
   ]
  },
  {
   "cell_type": "markdown",
   "metadata": {},
   "source": [
    "# 17. Cifrar con Cesar\n",
    "\n",
    "-   Pedir una frase al usuario\n",
    "-   Preguntarle si quiere cifrar o descifrar\n",
    "-   Crear una función que cifre el texto con el algoritmo Cesar\n",
    "-   Crear una función que descifre el texto con el algoritmo Cesar\n",
    "-   Imprimir el resultado\n",
    "\n",
    "_**ProTip:**_ Buscar en internet es una de las *skills* más utiles que tiene un programador\n"
   ]
  },
  {
   "cell_type": "markdown",
   "metadata": {},
   "source": [
    "# 18. Piramides\n",
    "\n",
    "-   Imprimir el siguiente patrón:\n",
    "\n",
    "```\n",
    "1\n",
    "2 2\n",
    "3 3 3\n",
    "4 4 4 4\n",
    "5 5 5 5 5\n",
    "```\n",
    "\n",
    "-   Imprimir el siguiente patrón:\n",
    "\n",
    "```\n",
    "* * * * *\n",
    "* * * *\n",
    "* * *\n",
    "* *\n",
    "*\n",
    "```\n"
   ]
  },
  {
   "cell_type": "markdown",
   "metadata": {},
   "source": [
    "# 19. Ordenar una lista de números aleatorios\n",
    "\n",
    "-   Generar una lista de 19 números aleatorios\n",
    "-   Imprimir el array de manera ordenana de mayor a menor\n"
   ]
  },
  {
   "cell_type": "markdown",
   "metadata": {},
   "source": [
    "# 20. Combinado de listas\n",
    "\n",
    "-   Crear dos listas de 10 números aleatorios cada una, entre -99 y 99\n",
    "-   Crear una lista nueva usando los números pares de una y los impares de la otra\n"
   ]
  }
 ],
 "metadata": {
  "language_info": {
   "name": "python"
  },
  "orig_nbformat": 4
 },
 "nbformat": 4,
 "nbformat_minor": 2
}
