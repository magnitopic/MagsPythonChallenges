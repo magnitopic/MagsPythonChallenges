{
 "cells": [
  {
   "cell_type": "markdown",
   "metadata": {},
   "source": [
    "# 11. Series\n",
    "\n",
    "-   Imprimir los valores entre dos numeros con un intervalo aleatorio\n",
    "-   Imprimir la suma de todos los valores de la lista\n"
   ]
  },
  {
   "cell_type": "markdown",
   "metadata": {},
   "source": [
    "# 12. Progresión geométrica\n",
    "\n",
    "-   Calcular cuantos granos de trigo tendríamos si por cada casilla de un tablero de ajedrez pusiéramos un grano en la primera casilla, dos en la segunda, cuatro en la tercera, y así doblando hasta la última.\n"
   ]
  },
  {
   "cell_type": "markdown",
   "metadata": {},
   "source": [
    "# 13. Divisores de una serie de números\n",
    "\n",
    "-   Calcular todos los divisores de una serie de números\n",
    "-   El usuario elige el rango de números, indicando el inicio y el final del rango\n",
    "    -   Por ejemplo, entre 100 y 110\n",
    "    -   El programa muestra, junto a cada número del rango, todos los divisores que tiene cada uno de esos números\n",
    "    -   Por ejemplo:\n",
    "        -   100 -> [1,2,4,5,10,20,25,50,100]\n",
    "        -   101 -> [1,101]\n",
    "        -   102 -> [1,2,3,6,17,34,51,102]\n",
    "        -   103 -> [1,103]\n",
    "        -   104 -> [1,2,4,8,13,26,52,104]\n",
    "        -   105 -> [1,3,5,7,15,21,35,105]\n",
    "        -   106 -> [1,2,53,106]\n",
    "        -   107 -> [1,107]\n",
    "        -   108 -> [1,2,3,4,6,9,12,18,27,36,54,108]\n",
    "        -   109 -> [1,109]\n",
    "        -   110 -> [1,2,5,10,11,22,55,110]\n"
   ]
  },
  {
   "cell_type": "markdown",
   "metadata": {},
   "source": [
    "# 14. Funciones\n",
    "\n",
    "-   Crear una función que calcule el cuadrado de un número\n",
    "-   Probar la función con los números entre -10 y +10\n",
    "-   Crear otra función que lo único que hace es imprimir al final la frase “Programa finalizado”\n",
    "-   Ejecutar ambas funciones.\n"
   ]
  },
  {
   "cell_type": "markdown",
   "metadata": {},
   "source": [
    "# 15. Fecha Y hora\n",
    "\n",
    "-   Imprimir la fecha y hora actuales\n"
   ]
  },
  {
   "cell_type": "markdown",
   "metadata": {},
   "source": [
    "# 16. Numero de 3 caracteres\n",
    "\n",
    "-   Imprimir todos los numeros de tres digitos donde caracter1<caracter2<caracter3\n",
    "    -   Por ejemplo 123 467 serían combinaciones validas y 435 673 no\n",
    "-   Imprimir el numero total de combinaciones\n"
   ]
  },
  {
   "cell_type": "markdown",
   "metadata": {},
   "source": [
    "# 17. Índice de masa corporal\n",
    "\n",
    "-   Crear una función que calcule el Índice de Masa Corporal (Body Mass Index [BMI]).\n"
   ]
  },
  {
   "cell_type": "markdown",
   "metadata": {},
   "source": [
    "# 18. Palíndromos\n",
    "\n",
    "-   Dada una cadena decir si es un palíndromo\n"
   ]
  },
  {
   "cell_type": "markdown",
   "metadata": {},
   "source": [
    "# 19. Cifras pares e impares\n",
    "\n",
    "-   Generar un número aleatorio entero entre un millón y dos millones\n",
    "-   Imprimir ese número en pantalla y decir cuántas cifras pares e impares tiene\n"
   ]
  },
  {
   "cell_type": "markdown",
   "metadata": {},
   "source": [
    "# 20. Cifras pares e impares\n",
    "\n",
    "-   Generar un número aleatorio entero entre un millón y dos millones\n",
    "-   Imprimir ese número en pantalla y decir cuántas cifras pares e impares tiene\n"
   ]
  }
 ],
 "metadata": {
  "language_info": {
   "name": "python"
  },
  "orig_nbformat": 4
 },
 "nbformat": 4,
 "nbformat_minor": 2
}
