{
 "cells": [
  {
   "cell_type": "markdown",
   "metadata": {},
   "source": [
    "# 21. Adivina el número secreto\n",
    "\n",
    "-   Se genera un número aleatorio entero entre 1 y 100\n",
    "-   El usuario debe adivinar el número secreto\n",
    "-   El programa le dirá al usuario si el numero es mayor o menor en cada ronda\n"
   ]
  }
 ],
 "metadata": {
  "language_info": {
   "name": "python"
  },
  "orig_nbformat": 4
 },
 "nbformat": 4,
 "nbformat_minor": 2
}
