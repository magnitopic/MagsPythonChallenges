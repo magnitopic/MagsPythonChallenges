{
 "cells": [
  {
   "cell_type": "markdown",
   "metadata": {},
   "source": [
    "# 21. Adivina el número secreto\n",
    "\n",
    "-   Se genera un número aleatorio entero entre 1 y 100\n",
    "-   El usuario debe adivinar el número secreto\n",
    "-   El programa le dirá al usuario si el numero es mayor o menor en cada ronda\n"
   ]
  },
  {
   "cell_type": "markdown",
   "metadata": {},
   "source": [
    "# 22. Meses\n",
    "\n",
    "-   Crear una función que reciva un numero\n",
    "-   La función deve retornar que mes del año corresponde con ese numero\n"
   ]
  },
  {
   "cell_type": "markdown",
   "metadata": {},
   "source": [
    "# 23. Bisiesto\n",
    "\n",
    "-   Crear una función que dado un año diga si es bisiesto\n"
   ]
  },
  {
   "cell_type": "markdown",
   "metadata": {},
   "source": [
    "# 24. Aleatorios con excepciones\n",
    "\n",
    "-   Generar números aleatorios pares entre 100 y 130, salvo 110 y 120.\n"
   ]
  },
  {
   "cell_type": "markdown",
   "metadata": {},
   "source": [
    "# 25. Generar y ordenar palabras\n",
    "\n",
    "-   Crear una serie de 10 palabras donde sus letras se obtienen de forma aleatoria\n",
    "-   Imprimir las palabras ordenadas alfabéticamente\n"
   ]
  },
  {
   "cell_type": "markdown",
   "metadata": {},
   "source": [
    "# 26. Matriz cuadrada\n",
    "\n",
    "-   Generar una matriz cuadrada de dimensiones aleatorias\n"
   ]
  },
  {
   "cell_type": "markdown",
   "metadata": {},
   "source": [
    "# 27. Separar elementos de una lista\n",
    "\n",
    "-   Generar una lista de 20 elementos con valores aleatorios donde en términos probables:\n",
    "\n",
    "    -   el 45% sean números\n",
    "    -   el 35% sean letras o símbolos\n",
    "    -   el 20% sean valores booleanos (True, False)\n",
    "\n",
    "-   Mostrar la lista generada en pantalla\n",
    "-   Separar la lista original en tres listas\n",
    "\n",
    "    -   una lista con los números\n",
    "    -   otra lista con las letras y símbolos\n",
    "    -   y finalmente otra lista con los valores booleanos\n"
   ]
  },
  {
   "cell_type": "markdown",
   "metadata": {},
   "source": [
    "# 28. Fibonacci\n",
    "\n",
    "-   Dar los n primeros valores de la sucesión de Fibonacci\n"
   ]
  },
  {
   "cell_type": "markdown",
   "metadata": {},
   "source": [
    "# 29. Números primos\n",
    "\n",
    "-   Listar los n primeros números primos\n"
   ]
  },
  {
   "cell_type": "markdown",
   "metadata": {},
   "source": [
    "# 30. Convertir segundos\n",
    "\n",
    "-   Dados un cierto número se segundos expresarlos como días, horas, minutos y segundos\n"
   ]
  }
 ],
 "metadata": {
  "language_info": {
   "name": "python"
  },
  "orig_nbformat": 4
 },
 "nbformat": 4,
 "nbformat_minor": 2
}
