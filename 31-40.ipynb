{
 "cells": [
  {
   "cell_type": "markdown",
   "metadata": {},
   "source": [
    "# 31. Meses\n",
    "\n",
    "-   Crear una función que reciva un numero\n",
    "-   La función deve retornar que mes del año corresponde a ese numero\n"
   ]
  },
  {
   "cell_type": "markdown",
   "metadata": {},
   "source": [
    "# 32. Bisiesto\n",
    "\n",
    "-   Crear una función que dado un año diga si es bisiesto\n"
   ]
  },
  {
   "cell_type": "markdown",
   "metadata": {},
   "source": [
    "# 33. Aleatorios con excepciones\n",
    "\n",
    "-   Generar números aleatorios pares entre 100 y 130, salvo 110 y 120.\n"
   ]
  },
  {
   "cell_type": "markdown",
   "metadata": {},
   "source": [
    "# 34. Generar y ordenar palabras\n",
    "\n",
    "-   Crear una serie de 10 palabras donde sus letras se obtienen de forma aleatoria\n",
    "-   Imprimir las palabras ordenadas alfabéticamente\n"
   ]
  },
  {
   "cell_type": "markdown",
   "metadata": {},
   "source": [
    "# 35. Matriz cuadrada\n",
    "\n",
    "-   Crear una matriz cuadrada que tenga esta apariencia:\n",
    "\n",
    "```\n",
    "1 1 1 1 1 1 1 1 1\n",
    "1 2 2 2 2 2 2 2 2\n",
    "1 2 3 3 3 3 3 3 3\n",
    "1 2 3 4 4 4 4 4 4\n",
    "1 2 3 4 5 5 5 5 5\n",
    "1 2 3 4 5 6 6 6 6\n",
    "1 2 3 4 5 6 7 7 7\n",
    "1 2 3 4 5 6 7 8 8\n",
    "1 2 3 4 5 6 7 8 9\n",
    "```\n"
   ]
  },
  {
   "cell_type": "markdown",
   "metadata": {},
   "source": [
    "# 36. Matriz cuadrada\n",
    "\n",
    "-   Generar una matriz cuadrada de dimensiones aleatorias\n"
   ]
  },
  {
   "cell_type": "markdown",
   "metadata": {},
   "source": [
    "# 37. Separar elementos de una lista\n",
    "\n",
    "-   Generar una lista de 20 elementos con valores aleatorios donde en términos probables:\n",
    "\n",
    "    -   el 45% sean números\n",
    "    -   el 35% sean letras o símbolos\n",
    "    -   el 20% sean valores booleanos (True, False)\n",
    "\n",
    "-   Mostrar la lista generada en pantalla\n",
    "-   Separar la lista original en tres listas\n",
    "\n",
    "    -   una lista con los números\n",
    "    -   otra lista con las letras y símbolos\n",
    "    -   y finalmente otra lista con los valores booleanos\n"
   ]
  },
  {
   "cell_type": "markdown",
   "metadata": {},
   "source": [
    "# 38. Fibonacci\n",
    "\n",
    "-   Dar los n primeros valores de la sucesión de Fibonacci\n"
   ]
  },
  {
   "cell_type": "markdown",
   "metadata": {},
   "source": [
    "# 39. Números primos\n",
    "\n",
    "-   Listar los n primeros números primos\n"
   ]
  },
  {
   "cell_type": "markdown",
   "metadata": {},
   "source": [
    "# 40. Convertir segundos\n",
    "\n",
    "-   Dados un cierto número se segundos expresarlos como días, horas, minutos y segundos\n"
   ]
  }
 ],
 "metadata": {
  "language_info": {
   "name": "python"
  },
  "orig_nbformat": 4
 },
 "nbformat": 4,
 "nbformat_minor": 2
}
