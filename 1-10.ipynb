{
  "cells": [
    {
      "cell_type": "markdown",
      "metadata": {
        "colab_type": "text",
        "id": "view-in-github"
      },
      "source": [
        "<a href=\"https://colab.research.google.com/github/magnitopic/MagsPythonChallenges/blob/master/1-10.ipynb\" target=\"_parent\"><img src=\"https://colab.research.google.com/assets/colab-badge.svg\" alt=\"Open In Colab\"/></a>"
      ]
    },
    {
      "cell_type": "markdown",
      "metadata": {
        "id": "pUux4kKglJdq"
      },
      "source": [
        "# 1. Hello world\n",
        "\n",
        "-   Imprimir en la terminal _Hello World_"
      ]
    },
    {
      "cell_type": "markdown",
      "metadata": {
        "id": "Fak7lid_lJdt"
      },
      "source": [
        "# 2. Operaciones con números en Python\n",
        "\n",
        "-   Elegir dos numeros enteros\n",
        "-   Con estos numeros realizar las siguientes operaciones:\n",
        "    -   Suma\n",
        "    -   Resta\n",
        "    -   Mutiplicación\n",
        "    -   Mutiplicación\n",
        "    -   División\n",
        "    -   Elevado\n",
        "    -   División entera\n",
        "    -   Módulo\n",
        "-   Elegir dos numeros float, que sumen un numero int. Imprimir el resultado de la operación\n"
      ]
    },
    {
      "cell_type": "markdown",
      "metadata": {
        "id": "29WmNq9IlJdw"
      },
      "source": [
        "# 3. Medias de números\n",
        "\n",
        "-   Pedir al usuario _n_ numeros\n",
        "-   Calcular la media entre ellos\n"
      ]
    },
    {
      "cell_type": "markdown",
      "metadata": {
        "id": "9oGBwcTnlJdx"
      },
      "source": [
        "# 4. Aleatorios\n",
        "\n",
        "-   Generar un número aleatorio\n"
      ]
    },
    {
      "cell_type": "markdown",
      "metadata": {
        "id": "NuuMRayNlJdy"
      },
      "source": [
        "# 5. Unir listas\n",
        "\n",
        "-   Generar una lista con los números entre 0 y 10\n",
        "-   Generar otra lista con los números del 11 al 20\n",
        "-   Unir ambas lista e imprimir el resultado\n"
      ]
    },
    {
      "cell_type": "markdown",
      "metadata": {
        "id": "fKwzwXoNlJdz"
      },
      "source": [
        "# 6. Operaciones con números\n",
        "\n",
        "-   Generar 3 pares de numeros aleatorios\n",
        "-   Realizar las siguientes comparaciones con las parejas:\n",
        "    -   Mayor que\n",
        "    -   Mayor igual que\n",
        "    -   Menor que\n",
        "    -   Menor igual que\n",
        "    -   Igualdad\n"
      ]
    },
    {
      "cell_type": "markdown",
      "metadata": {
        "id": "kFlzAGa4lJd1"
      },
      "source": [
        "# 7. Ordenar una lista de números aleatorios\n",
        "\n",
        "-   Generar una lista (array) de numeros de manera aleatoria\n",
        "-   Imprimir el array de manera ordenana del más grande al más pequeño\n"
      ]
    },
    {
      "cell_type": "markdown",
      "metadata": {
        "id": "iR_mx0dylJd2"
      },
      "source": [
        "# 8. Intervalos\n",
        "\n",
        "-   Generar un número aleatorio entre 1 y 120\n",
        "-   Decir si se encuentra entre los siguientes intervalos:\n",
        "    -   Entre 10 y 50\n",
        "    -   Mayor de 50 hasta 100\n",
        "    -   Mayor de 100\n",
        "    -   Menor de 10\n"
      ]
    },
    {
      "cell_type": "markdown",
      "metadata": {
        "id": "5vUzcpknlJd4"
      },
      "source": [
        "# 9. Listar los números del 1 al 10\n",
        "\n",
        "-   Listar los números del 1 al 10\n"
      ]
    },
    {
      "cell_type": "markdown",
      "metadata": {
        "id": "NUDxIIpAlJd5"
      },
      "source": [
        "# 10. Pares\n",
        "\n",
        "-   Listar los números pares del 10 al 20\n"
      ]
    }
  ],
  "metadata": {
    "colab": {
      "include_colab_link": true,
      "name": "1-10.ipynb",
      "provenance": []
    },
    "interpreter": {
      "hash": "aee8b7b246df8f9039afb4144a1f6fd8d2ca17a180786b69acc140d282b71a49"
    },
    "kernelspec": {
      "display_name": "Python 3.9.10 64-bit",
      "language": "python",
      "name": "python3"
    },
    "language_info": {
      "name": "python",
      "version": "3.9.10"
    },
    "orig_nbformat": 4
  },
  "nbformat": 4,
  "nbformat_minor": 0
}
