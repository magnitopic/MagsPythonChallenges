{
 "cells": [
  {
   "cell_type": "markdown",
   "metadata": {},
   "source": [
    "# 1. Hello world\n",
    "\n",
    "-   Imprimir en la terminal _Hello World_"
   ]
  },
  {
   "cell_type": "markdown",
   "metadata": {},
   "source": [
    "# 2. Operaciones con números en Python\n",
    "\n",
    "-   Elegir dos numeros enteros\n",
    "-   Con estos numeros realizar las siguientes operaciones:\n",
    "    -   Suma\n",
    "    -   Resta\n",
    "    -   Mutiplicación\n",
    "    -   Mutiplicación\n",
    "    -   División\n",
    "    -   Elevado\n",
    "    -   División entera\n",
    "    -   Módulo\n",
    "-   Elegir dos numeros float, que sumen un numero int. Imprimir el resultado de la operación\n"
   ]
  },
  {
   "cell_type": "markdown",
   "metadata": {},
   "source": [
    "# 3. Media de dos números\n",
    "- Pedir al usuario *n* numeros\n",
    "- Calcular la media entre ellos"
   ]
  },
  {
   "cell_type": "markdown",
   "metadata": {},
   "source": [
    "# 4. Aleatorios\n",
    "\n",
    "-   Generar un número aleatorio\n"
   ]
  },
  {
   "cell_type": "markdown",
   "metadata": {},
   "source": [
    "# 5. Unir listas\n",
    "\n",
    "-   Generar una lista con los números entre 0 y 10\n",
    "-   Generar otra lista con los números del 11 al 20\n",
    "-   Unir ambas lista e imprimir el resultado\n"
   ]
  },
  {
   "cell_type": "markdown",
   "metadata": {},
   "source": [
    "# 6. Operaciones con números\n",
    "\n",
    "-   Generar 3 pares de numeros aleatorios\n",
    "-   Realizar las siguientes comparaciones con las parejas:\n",
    "    -   Mayor que\n",
    "    -   Mayor igual que\n",
    "    -   Menor que\n",
    "    -   Menor igual que\n",
    "    -   Igualdad\n"
   ]
  },
  {
   "cell_type": "markdown",
   "metadata": {},
   "source": [
    "# 7. Ordenar una lista de numeros aleatorios\n",
    "\n",
    "-   Generar una lista (array) de numeros de manera aleatoria\n",
    "-   Imprimir el array de manera ordenana del más grande al más pequeño\n"
   ]
  },
  {
   "cell_type": "markdown",
   "metadata": {},
   "source": [
    "# 8. Intervalos\n",
    "\n",
    "-   Generar un número aleatorio entre 1 y 120\n",
    "-   Decir si se encuentra entre los siguientes intervalos:\n",
    "    -   Entre 10 y 50\n",
    "    -   Mayor de 50 hasta 100\n",
    "    -   Mayor de 100\n",
    "    -   Menor de 10\n"
   ]
  },
  {
   "cell_type": "markdown",
   "metadata": {},
   "source": [
    "# 9. Listar los números del 1 al 10\n",
    "\n",
    "-   Listar los números del 1 al 10\n"
   ]
  },
  {
   "cell_type": "markdown",
   "metadata": {},
   "source": [
    "# 10. Pares\n",
    "\n",
    "-   Listar los números pares del 10 al 20\n"
   ]
  }
 ],
 "metadata": {
  "language_info": {
   "name": "python"
  },
  "orig_nbformat": 4
 },
 "nbformat": 4,
 "nbformat_minor": 2
}
